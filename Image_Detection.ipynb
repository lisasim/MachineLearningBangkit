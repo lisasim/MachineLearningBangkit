{
  "nbformat": 4,
  "nbformat_minor": 5,
  "metadata": {
    "colab": {
      "name": "Image_Detection.ipynb",
      "provenance": [],
      "collapsed_sections": []
    },
    "kernelspec": {
      "display_name": "Python 3",
      "language": "python",
      "name": "python3"
    },
    "language_info": {
      "codemirror_mode": {
        "name": "ipython",
        "version": 3
      },
      "file_extension": ".py",
      "mimetype": "text/x-python",
      "name": "python",
      "nbconvert_exporter": "python",
      "pygments_lexer": "ipython3",
      "version": "3.7.8"
    }
  },
  "cells": [
    {
      "cell_type": "code",
      "metadata": {
        "colab": {
          "base_uri": "https://localhost:8080/"
        },
        "id": "X_pHm-869pcb",
        "outputId": "38402714-09ba-4d78-e0a9-6b3540bddb36"
      },
      "source": [
        "# Mount your google drive to import dataset \n",
        "from google.colab import drive\n",
        "drive.mount('/content/drive')"
      ],
      "id": "X_pHm-869pcb",
      "execution_count": null,
      "outputs": [
        {
          "output_type": "stream",
          "text": [
            "Mounted at /content/drive\n"
          ],
          "name": "stdout"
        }
      ]
    },
    {
      "cell_type": "code",
      "metadata": {
        "colab": {
          "base_uri": "https://localhost:8080/"
        },
        "id": "02321eed",
        "outputId": "0dba3d40-e88a-4b11-a4ad-8a656c7753c8"
      },
      "source": [
        "# View total of dataset, customize the path according to your path\n",
        "import os\n",
        "\n",
        "jalan_dir = os.path.join('/content/drive/MyDrive/Image Detection/data/train/jalan')\n",
        "kebakaran_dir = os.path.join('/content/drive/MyDrive/Image Detection/data/train/kebakaran')\n",
        "pohon_dir = os.path.join('/content/drive/MyDrive/Image Detection/data/train/pohon')\n",
        "\n",
        "print('total training jalan images:', len(os.listdir(jalan_dir)))\n",
        "print('total training kebakaran images:', len(os.listdir(kebakaran_dir)))\n",
        "print('total training pohon images:', len(os.listdir(pohon_dir)))\n"
      ],
      "id": "02321eed",
      "execution_count": null,
      "outputs": [
        {
          "output_type": "stream",
          "text": [
            "total training jalan images: 500\n",
            "total training kebakaran images: 500\n",
            "total training pohon images: 500\n"
          ],
          "name": "stdout"
        }
      ]
    },
    {
      "cell_type": "code",
      "metadata": {
        "colab": {
          "base_uri": "https://localhost:8080/"
        },
        "id": "51e87d2d",
        "outputId": "3a8365b3-e8c5-4428-ddc8-c7cf5b9e0b70"
      },
      "source": [
        "# Import dataset\n",
        "import tensorflow as tf\n",
        "import keras_preprocessing\n",
        "from keras_preprocessing import image\n",
        "from keras_preprocessing.image import ImageDataGenerator\n",
        "\n",
        "TRAINING_DIR = \"/content/drive/MyDrive/Image Detection/data/train\"\n",
        "training_datagen = ImageDataGenerator(\n",
        "    rescale = 1./255,\n",
        "    rotation_range=40,\n",
        "    width_shift_range=0.2,\n",
        "    height_shift_range=0.2,\n",
        "    shear_range=0.2,\n",
        "    zoom_range=0.2,\n",
        "    horizontal_flip=True,\n",
        "    fill_mode='nearest')\n",
        "\n",
        "VALIDATION_DIR = \"/content/drive/MyDrive/Image Detection/data/test\"\n",
        "validation_datagen = ImageDataGenerator(rescale = 1./255)\n",
        "\n",
        "train_generator = training_datagen.flow_from_directory(\n",
        "    TRAINING_DIR,\n",
        "    target_size=(150,150),\n",
        "    class_mode='categorical',\n",
        "    batch_size=10\n",
        ")\n",
        "\n",
        "validation_generator = validation_datagen.flow_from_directory(\n",
        "    VALIDATION_DIR,\n",
        "    target_size=(150,150),\n",
        "    class_mode='categorical',\n",
        "    batch_size=10\n",
        ")\n",
        "\n",
        "class myCallback(tf.keras.callbacks.Callback):\n",
        "    def on_epoch_end(self, epochs, logs={}):\n",
        "        if(logs.get('loss')<0.001):\n",
        "            print(\"\\nReached 99.9% accuracy so cancelling training!\")\n",
        "            self.model.stop_training = True\n",
        "            \n",
        "callbacks = myCallback()"
      ],
      "id": "51e87d2d",
      "execution_count": null,
      "outputs": [
        {
          "output_type": "stream",
          "text": [
            "Found 1499 images belonging to 3 classes.\n",
            "Found 449 images belonging to 3 classes.\n"
          ],
          "name": "stdout"
        }
      ]
    },
    {
      "cell_type": "code",
      "metadata": {
        "colab": {
          "base_uri": "https://localhost:8080/"
        },
        "id": "d9bbe0b3",
        "outputId": "c6c8428e-4762-4065-d29b-ca94d5fe8916"
      },
      "source": [
        "# Model\n",
        "model = tf.keras.models.Sequential([\n",
        "    # Note the input shape is the desired size of the image 150x150 with 3 bytes color\n",
        "    # This is the first convolution\n",
        "    tf.keras.layers.Conv2D(64, (3,3), activation='relu', input_shape=(150, 150, 3)),\n",
        "    tf.keras.layers.MaxPooling2D(2, 2),\n",
        "    # The second convolution\n",
        "    tf.keras.layers.Conv2D(64, (3,3), activation='relu'),\n",
        "    tf.keras.layers.MaxPooling2D(2,2),\n",
        "    # The third convolution\n",
        "    tf.keras.layers.Conv2D(128, (3,3), activation='relu'),\n",
        "    tf.keras.layers.MaxPooling2D(2,2),\n",
        "    # The fourth convolution\n",
        "    tf.keras.layers.Conv2D(128, (3,3), activation='relu'),\n",
        "    tf.keras.layers.MaxPooling2D(2,2),\n",
        "    # The third convolution\n",
        "    tf.keras.layers.Conv2D(256, (3,3), activation='relu'),\n",
        "    tf.keras.layers.MaxPooling2D(2,2),\n",
        "    # Flatten the results to feed into a DNN\n",
        "    tf.keras.layers.Flatten(),\n",
        "    tf.keras.layers.Dropout(0.5),\n",
        "    # 512 neuron hidden layer\n",
        "    tf.keras.layers.Dense(512, activation='relu'),\n",
        "    tf.keras.layers.Dense(512, activation='relu'),\n",
        "    tf.keras.layers.Dense(3, activation='softmax')\n",
        "])\n",
        "\n",
        "\n",
        "model.summary()"
      ],
      "id": "d9bbe0b3",
      "execution_count": null,
      "outputs": [
        {
          "output_type": "stream",
          "text": [
            "Model: \"sequential\"\n",
            "_________________________________________________________________\n",
            "Layer (type)                 Output Shape              Param #   \n",
            "=================================================================\n",
            "conv2d (Conv2D)              (None, 148, 148, 64)      1792      \n",
            "_________________________________________________________________\n",
            "max_pooling2d (MaxPooling2D) (None, 74, 74, 64)        0         \n",
            "_________________________________________________________________\n",
            "conv2d_1 (Conv2D)            (None, 72, 72, 64)        36928     \n",
            "_________________________________________________________________\n",
            "max_pooling2d_1 (MaxPooling2 (None, 36, 36, 64)        0         \n",
            "_________________________________________________________________\n",
            "conv2d_2 (Conv2D)            (None, 34, 34, 128)       73856     \n",
            "_________________________________________________________________\n",
            "max_pooling2d_2 (MaxPooling2 (None, 17, 17, 128)       0         \n",
            "_________________________________________________________________\n",
            "conv2d_3 (Conv2D)            (None, 15, 15, 128)       147584    \n",
            "_________________________________________________________________\n",
            "max_pooling2d_3 (MaxPooling2 (None, 7, 7, 128)         0         \n",
            "_________________________________________________________________\n",
            "conv2d_4 (Conv2D)            (None, 5, 5, 256)         295168    \n",
            "_________________________________________________________________\n",
            "max_pooling2d_4 (MaxPooling2 (None, 2, 2, 256)         0         \n",
            "_________________________________________________________________\n",
            "flatten (Flatten)            (None, 1024)              0         \n",
            "_________________________________________________________________\n",
            "dropout (Dropout)            (None, 1024)              0         \n",
            "_________________________________________________________________\n",
            "dense (Dense)                (None, 512)               524800    \n",
            "_________________________________________________________________\n",
            "dense_1 (Dense)              (None, 512)               262656    \n",
            "_________________________________________________________________\n",
            "dense_2 (Dense)              (None, 3)                 1539      \n",
            "=================================================================\n",
            "Total params: 1,344,323\n",
            "Trainable params: 1,344,323\n",
            "Non-trainable params: 0\n",
            "_________________________________________________________________\n"
          ],
          "name": "stdout"
        }
      ]
    },
    {
      "cell_type": "code",
      "metadata": {
        "colab": {
          "base_uri": "https://localhost:8080/"
        },
        "id": "OfXMa7rJ_6MI",
        "outputId": "388a34e2-4e04-45c4-90f7-e562f810826d"
      },
      "source": [
        "model.compile(loss = 'categorical_crossentropy', optimizer='rmsprop', metrics=['accuracy'])\n",
        "\n",
        "history = model.fit(train_generator, epochs=50, steps_per_epoch=30, validation_data = validation_generator, verbose = 1, validation_steps=3, callbacks=[callbacks])\n",
        "\n",
        "model.save(\"model.h5\")"
      ],
      "id": "OfXMa7rJ_6MI",
      "execution_count": null,
      "outputs": [
        {
          "output_type": "stream",
          "text": [
            "Epoch 1/50\n",
            "30/30 [==============================] - 187s 6s/step - loss: 1.0366 - accuracy: 0.4767 - val_loss: 1.4556 - val_accuracy: 0.5333\n",
            "Epoch 2/50\n",
            "30/30 [==============================] - 148s 5s/step - loss: 1.0737 - accuracy: 0.5933 - val_loss: 0.9980 - val_accuracy: 0.5333\n",
            "Epoch 3/50\n",
            "30/30 [==============================] - 118s 4s/step - loss: 0.7160 - accuracy: 0.6167 - val_loss: 0.8842 - val_accuracy: 0.6000\n",
            "Epoch 4/50\n",
            "30/30 [==============================] - 101s 3s/step - loss: 0.7070 - accuracy: 0.7133 - val_loss: 1.2149 - val_accuracy: 0.5000\n",
            "Epoch 5/50\n",
            "30/30 [==============================] - 82s 3s/step - loss: 0.7874 - accuracy: 0.6722 - val_loss: 0.6153 - val_accuracy: 0.6000\n",
            "Epoch 6/50\n",
            "30/30 [==============================] - 74s 2s/step - loss: 0.6881 - accuracy: 0.7567 - val_loss: 0.4820 - val_accuracy: 0.9000\n",
            "Epoch 7/50\n",
            "30/30 [==============================] - 62s 2s/step - loss: 0.6221 - accuracy: 0.7759 - val_loss: 0.6998 - val_accuracy: 0.8000\n",
            "Epoch 8/50\n",
            "30/30 [==============================] - 58s 2s/step - loss: 0.6985 - accuracy: 0.7967 - val_loss: 1.3217 - val_accuracy: 0.7333\n",
            "Epoch 9/50\n",
            "30/30 [==============================] - 46s 2s/step - loss: 0.6447 - accuracy: 0.8133 - val_loss: 0.3595 - val_accuracy: 0.9000\n",
            "Epoch 10/50\n",
            "30/30 [==============================] - 42s 1s/step - loss: 0.4870 - accuracy: 0.8233 - val_loss: 0.4926 - val_accuracy: 0.8000\n",
            "Epoch 11/50\n",
            "30/30 [==============================] - 39s 1s/step - loss: 0.5745 - accuracy: 0.8167 - val_loss: 0.2002 - val_accuracy: 0.9667\n",
            "Epoch 12/50\n",
            "30/30 [==============================] - 35s 1s/step - loss: 0.5211 - accuracy: 0.8294 - val_loss: 0.2215 - val_accuracy: 0.9667\n",
            "Epoch 13/50\n",
            "30/30 [==============================] - 37s 1s/step - loss: 0.7763 - accuracy: 0.8367 - val_loss: 0.1283 - val_accuracy: 1.0000\n",
            "Epoch 14/50\n",
            "30/30 [==============================] - 34s 1s/step - loss: 0.3892 - accuracy: 0.8796 - val_loss: 0.4526 - val_accuracy: 0.8667\n",
            "Epoch 15/50\n",
            "30/30 [==============================] - 30s 996ms/step - loss: 0.4999 - accuracy: 0.8294 - val_loss: 0.4250 - val_accuracy: 0.9000\n",
            "Epoch 16/50\n",
            "30/30 [==============================] - 29s 963ms/step - loss: 0.5385 - accuracy: 0.8300 - val_loss: 0.3747 - val_accuracy: 0.9000\n",
            "Epoch 17/50\n",
            "30/30 [==============================] - 32s 1s/step - loss: 0.4566 - accuracy: 0.8500 - val_loss: 0.3716 - val_accuracy: 0.8667\n",
            "Epoch 18/50\n",
            "30/30 [==============================] - 28s 917ms/step - loss: 0.4636 - accuracy: 0.8428 - val_loss: 0.4390 - val_accuracy: 0.8000\n",
            "Epoch 19/50\n",
            "30/30 [==============================] - 28s 931ms/step - loss: 0.4479 - accuracy: 0.8733 - val_loss: 0.3950 - val_accuracy: 0.8667\n",
            "Epoch 20/50\n",
            "30/30 [==============================] - 27s 884ms/step - loss: 0.4723 - accuracy: 0.8433 - val_loss: 0.3587 - val_accuracy: 0.9000\n",
            "Epoch 21/50\n",
            "30/30 [==============================] - 27s 898ms/step - loss: 0.4985 - accuracy: 0.7967 - val_loss: 0.1656 - val_accuracy: 0.9333\n",
            "Epoch 22/50\n",
            "30/30 [==============================] - 26s 871ms/step - loss: 0.5517 - accuracy: 0.8467 - val_loss: 0.1590 - val_accuracy: 0.9333\n",
            "Epoch 23/50\n",
            "30/30 [==============================] - 25s 821ms/step - loss: 0.4334 - accuracy: 0.8267 - val_loss: 0.1194 - val_accuracy: 0.9667\n",
            "Epoch 24/50\n",
            "30/30 [==============================] - 25s 841ms/step - loss: 0.5396 - accuracy: 0.8367 - val_loss: 0.2003 - val_accuracy: 0.9333\n",
            "Epoch 25/50\n",
            "30/30 [==============================] - 24s 802ms/step - loss: 0.3660 - accuracy: 0.8600 - val_loss: 0.0127 - val_accuracy: 1.0000\n",
            "Epoch 26/50\n",
            "30/30 [==============================] - 25s 837ms/step - loss: 0.3707 - accuracy: 0.8629 - val_loss: 0.1291 - val_accuracy: 0.9667\n",
            "Epoch 27/50\n",
            "30/30 [==============================] - 26s 871ms/step - loss: 0.4947 - accuracy: 0.8567 - val_loss: 0.2997 - val_accuracy: 0.9000\n",
            "Epoch 28/50\n",
            "30/30 [==============================] - 28s 945ms/step - loss: 0.4190 - accuracy: 0.8600 - val_loss: 0.1111 - val_accuracy: 0.9667\n",
            "Epoch 29/50\n",
            "30/30 [==============================] - 25s 834ms/step - loss: 0.5968 - accuracy: 0.8328 - val_loss: 0.2711 - val_accuracy: 0.9000\n",
            "Epoch 30/50\n",
            "30/30 [==============================] - 24s 784ms/step - loss: 0.4013 - accuracy: 0.8800 - val_loss: 0.4769 - val_accuracy: 0.8667\n",
            "Epoch 31/50\n",
            "30/30 [==============================] - 25s 826ms/step - loss: 0.5046 - accuracy: 0.8367 - val_loss: 0.1304 - val_accuracy: 1.0000\n",
            "Epoch 32/50\n",
            "30/30 [==============================] - 24s 809ms/step - loss: 0.4546 - accuracy: 0.8733 - val_loss: 0.1306 - val_accuracy: 0.9667\n",
            "Epoch 33/50\n",
            "30/30 [==============================] - 26s 868ms/step - loss: 0.5223 - accuracy: 0.8300 - val_loss: 0.1926 - val_accuracy: 0.9667\n",
            "Epoch 34/50\n",
            "30/30 [==============================] - 25s 819ms/step - loss: 0.3998 - accuracy: 0.9100 - val_loss: 0.3853 - val_accuracy: 0.9333\n",
            "Epoch 35/50\n",
            "30/30 [==============================] - 23s 774ms/step - loss: 0.3667 - accuracy: 0.8733 - val_loss: 0.3704 - val_accuracy: 0.8667\n",
            "Epoch 36/50\n",
            "30/30 [==============================] - 24s 800ms/step - loss: 0.4035 - accuracy: 0.8763 - val_loss: 0.1633 - val_accuracy: 0.9667\n",
            "Epoch 37/50\n",
            "30/30 [==============================] - 24s 792ms/step - loss: 0.3675 - accuracy: 0.8533 - val_loss: 0.1015 - val_accuracy: 1.0000\n",
            "Epoch 38/50\n",
            "30/30 [==============================] - 24s 783ms/step - loss: 0.4282 - accuracy: 0.8667 - val_loss: 0.1870 - val_accuracy: 0.9333\n",
            "Epoch 39/50\n",
            "30/30 [==============================] - 24s 807ms/step - loss: 0.5090 - accuracy: 0.8533 - val_loss: 0.3614 - val_accuracy: 0.9333\n",
            "Epoch 40/50\n",
            "30/30 [==============================] - 23s 771ms/step - loss: 0.4308 - accuracy: 0.8633 - val_loss: 0.1757 - val_accuracy: 0.9333\n",
            "Epoch 41/50\n",
            "30/30 [==============================] - 25s 824ms/step - loss: 0.3581 - accuracy: 0.8729 - val_loss: 0.1162 - val_accuracy: 0.9667\n",
            "Epoch 42/50\n",
            "30/30 [==============================] - 25s 824ms/step - loss: 0.3614 - accuracy: 0.8767 - val_loss: 0.2808 - val_accuracy: 0.9000\n",
            "Epoch 43/50\n",
            "30/30 [==============================] - 24s 796ms/step - loss: 0.3474 - accuracy: 0.9100 - val_loss: 0.1392 - val_accuracy: 0.9667\n",
            "Epoch 44/50\n",
            "30/30 [==============================] - 23s 773ms/step - loss: 0.4355 - accuracy: 0.8767 - val_loss: 0.0576 - val_accuracy: 1.0000\n",
            "Epoch 45/50\n",
            "30/30 [==============================] - 23s 752ms/step - loss: 0.3467 - accuracy: 0.8900 - val_loss: 0.2075 - val_accuracy: 0.9000\n",
            "Epoch 46/50\n",
            "30/30 [==============================] - 24s 784ms/step - loss: 0.3764 - accuracy: 0.8629 - val_loss: 0.3290 - val_accuracy: 0.8667\n",
            "Epoch 47/50\n",
            "30/30 [==============================] - 25s 816ms/step - loss: 0.3537 - accuracy: 0.8667 - val_loss: 0.1088 - val_accuracy: 1.0000\n",
            "Epoch 48/50\n",
            "30/30 [==============================] - 24s 792ms/step - loss: 0.3630 - accuracy: 0.9000 - val_loss: 0.3052 - val_accuracy: 0.9333\n",
            "Epoch 49/50\n",
            "30/30 [==============================] - 24s 776ms/step - loss: 0.3856 - accuracy: 0.8629 - val_loss: 0.1215 - val_accuracy: 0.9667\n",
            "Epoch 50/50\n",
            "30/30 [==============================] - 23s 766ms/step - loss: 0.3390 - accuracy: 0.8967 - val_loss: 0.1853 - val_accuracy: 0.9333\n"
          ],
          "name": "stdout"
        }
      ]
    },
    {
      "cell_type": "code",
      "metadata": {
        "id": "YjX1UjZTsKGp",
        "colab": {
          "base_uri": "https://localhost:8080/"
        },
        "outputId": "26987fcf-9700-4b0a-c3a4-6ff548ada3c5"
      },
      "source": [
        "# Load saved model\n",
        "\n",
        "model = tf.keras.models.load_model('/content/drive/MyDrive/Image Detection/data2/model/model.h5')\n",
        "\n",
        "# Check its architecture\n",
        "model.summary()"
      ],
      "id": "YjX1UjZTsKGp",
      "execution_count": null,
      "outputs": [
        {
          "output_type": "stream",
          "text": [
            "Model: \"sequential\"\n",
            "_________________________________________________________________\n",
            "Layer (type)                 Output Shape              Param #   \n",
            "=================================================================\n",
            "conv2d (Conv2D)              (None, 148, 148, 64)      1792      \n",
            "_________________________________________________________________\n",
            "max_pooling2d (MaxPooling2D) (None, 74, 74, 64)        0         \n",
            "_________________________________________________________________\n",
            "conv2d_1 (Conv2D)            (None, 72, 72, 64)        36928     \n",
            "_________________________________________________________________\n",
            "max_pooling2d_1 (MaxPooling2 (None, 36, 36, 64)        0         \n",
            "_________________________________________________________________\n",
            "conv2d_2 (Conv2D)            (None, 34, 34, 128)       73856     \n",
            "_________________________________________________________________\n",
            "max_pooling2d_2 (MaxPooling2 (None, 17, 17, 128)       0         \n",
            "_________________________________________________________________\n",
            "conv2d_3 (Conv2D)            (None, 15, 15, 128)       147584    \n",
            "_________________________________________________________________\n",
            "max_pooling2d_3 (MaxPooling2 (None, 7, 7, 128)         0         \n",
            "_________________________________________________________________\n",
            "conv2d_4 (Conv2D)            (None, 5, 5, 512)         590336    \n",
            "_________________________________________________________________\n",
            "max_pooling2d_4 (MaxPooling2 (None, 2, 2, 512)         0         \n",
            "_________________________________________________________________\n",
            "flatten (Flatten)            (None, 2048)              0         \n",
            "_________________________________________________________________\n",
            "dropout (Dropout)            (None, 2048)              0         \n",
            "_________________________________________________________________\n",
            "dense (Dense)                (None, 512)               1049088   \n",
            "_________________________________________________________________\n",
            "dense_1 (Dense)              (None, 512)               262656    \n",
            "_________________________________________________________________\n",
            "dense_2 (Dense)              (None, 3)                 1539      \n",
            "=================================================================\n",
            "Total params: 2,163,779\n",
            "Trainable params: 2,163,779\n",
            "Non-trainable params: 0\n",
            "_________________________________________________________________\n"
          ],
          "name": "stdout"
        }
      ]
    },
    {
      "cell_type": "code",
      "metadata": {
        "colab": {
          "base_uri": "https://localhost:8080/"
        },
        "id": "kTn6rvGCajGk",
        "outputId": "ff58013c-9bdc-4800-b8f2-9979d65d849d"
      },
      "source": [
        "# Do inference from URL\n",
        "\n",
        "import urllib.request\n",
        "from PIL import Image\n",
        "\n",
        "urllib.request.urlretrieve(\n",
        "  \"https://encrypted-tbn0.gstatic.com/images?q=tbn:ANd9GcTzfNVD-N3441Afa4abUekCoj5Zl9uJjCRoHeKP0elAQY32yqI25me3OXQ&s=10\",\n",
        "   \"gfg.png\")\n",
        "  \n",
        "img=image.load_img(\"gfg.png\", target_size=(150, 150))\n",
        "\n",
        "x=image.img_to_array(img)\n",
        "x=np.expand_dims(x, axis=0)\n",
        "images = np.vstack([x])\n",
        "  \n",
        "classes = model.predict(images, batch_size=10)\n",
        "  \n",
        "print(classes[0])"
      ],
      "id": "kTn6rvGCajGk",
      "execution_count": null,
      "outputs": [
        {
          "output_type": "stream",
          "text": [
            "[0. 0. 1.]\n"
          ],
          "name": "stdout"
        }
      ]
    },
    {
      "cell_type": "code",
      "metadata": {
        "colab": {
          "resources": {
            "http://localhost:8080/nbextensions/google.colab/files.js": {
              "data": "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",
              "ok": true,
              "headers": [
                [
                  "content-type",
                  "application/javascript"
                ]
              ],
              "status": 200,
              "status_text": ""
            }
          },
          "base_uri": "https://localhost:8080/",
          "height": 89
        },
        "id": "YJYAonKANB9m",
        "outputId": "64c22e6d-a2c3-4764-82fa-6a3c3997969b"
      },
      "source": [
        "# Do inference from local file\n",
        "\n",
        "import numpy as np\n",
        "\n",
        "from google.colab import files\n",
        "from keras.preprocessing import image\n",
        "\n",
        "uploaded=files.upload()\n",
        "\n",
        "for fn in uploaded.keys():\n",
        " \n",
        "  # predicting images\n",
        "   path='/content/' + fn\n",
        "   img=image.load_img(path, target_size=(150, 150))\n",
        "  \n",
        "   x=image.img_to_array(img)\n",
        "   x=np.expand_dims(x, axis=0)\n",
        "   images = np.vstack([x])\n",
        "  \n",
        "   classes = model.predict(images, batch_size=10)\n",
        "  \n",
        "print(classes[0])"
      ],
      "id": "YJYAonKANB9m",
      "execution_count": null,
      "outputs": [
        {
          "output_type": "display_data",
          "data": {
            "text/html": [
              "\n",
              "     <input type=\"file\" id=\"files-104e7170-b2a4-4a5b-bba2-6f6a92b3e24d\" name=\"files[]\" multiple disabled\n",
              "        style=\"border:none\" />\n",
              "     <output id=\"result-104e7170-b2a4-4a5b-bba2-6f6a92b3e24d\">\n",
              "      Upload widget is only available when the cell has been executed in the\n",
              "      current browser session. Please rerun this cell to enable.\n",
              "      </output>\n",
              "      <script src=\"/nbextensions/google.colab/files.js\"></script> "
            ],
            "text/plain": [
              "<IPython.core.display.HTML object>"
            ]
          },
          "metadata": {
            "tags": []
          }
        },
        {
          "output_type": "stream",
          "text": [
            "Saving kebakaran.jpeg to kebakaran.jpeg\n",
            "[0. 1. 0.]\n"
          ],
          "name": "stdout"
        }
      ]
    },
    {
      "cell_type": "code",
      "metadata": {
        "colab": {
          "base_uri": "https://localhost:8080/"
        },
        "id": "IBAAbE6gYMmg",
        "outputId": "d6553246-ff1d-4e74-bd43-6bb274524b69"
      },
      "source": [
        "# See class list\n",
        "\n",
        "print(train_generator.class_indices)\n",
        "print(validation_generator.class_indices)"
      ],
      "id": "IBAAbE6gYMmg",
      "execution_count": null,
      "outputs": [
        {
          "output_type": "stream",
          "text": [
            "{'jalan': 0, 'kebakaran': 1, 'pohon': 2}\n",
            "{'jalan': 0, 'kebakaran': 1, 'pohon': 2}\n"
          ],
          "name": "stdout"
        }
      ]
    }
  ]
}